{
 "cells": [
  {
   "cell_type": "markdown",
   "metadata": {},
   "source": [
    "## __PROCESS ANALYTICAL TECHNOLOGY IN FERMENTATION PROCESSES__\n",
    "### __Fermentation monitoring using advanced spectroscoy__\n",
    "\n",
    "PROSYS, Department of Chemical and Biochemical Engineering, Technical University of Denmark (DTU)\n",
    "\n",
    "__Author:__ Pau Cabaneros Lopez"
   ]
  },
  {
   "cell_type": "markdown",
   "metadata": {},
   "source": [
    "#### __OVERVIEW:__\n",
    "\n",
    "This exercise uses spectral data collected in _real-time_ during a lignocellulosic ethanol fermentation. These samples were taken using attenuated total refractance, mid infrared (ATR-MIR) spectroscopy. The reference data was taken using high performance liquid chromatography (HPLC). \n",
    "\n",
    "The datasets used in this project consist of:\n",
    "\n",
    "- Training dataset (containing both, spectra and the corresponding HPLC measurements).\n",
    "\n",
    "- Fermentation dataset: containing a timeseries of spectra collected in real time, and another timeseries of off-line HPLC measurements. \n",
    "\n",
    "For detailed information about the training and fermentation datasets, see  _Transforming data to information: A parallel hybrid model for real-time state estimation in lignocellulosic ethanol fermentation_.\n",
    "\n"
   ]
  },
  {
   "cell_type": "markdown",
   "metadata": {},
   "source": [
    "## __Step 0. Set up the environment__"
   ]
  },
  {
   "cell_type": "markdown",
   "metadata": {},
   "source": [
    "When we use Google Colab, we need to setup the environment by installing the required packages and importing the necessary libraries."
   ]
  },
  {
   "cell_type": "markdown",
   "metadata": {},
   "source": [
    "### ✅ __0.1. Installing the dependencies__"
   ]
  },
  {
   "cell_type": "code",
   "execution_count": null,
   "metadata": {},
   "outputs": [],
   "source": [
    "%pip install dtuprosys"
   ]
  },
  {
   "cell_type": "markdown",
   "metadata": {},
   "source": [
    "### ✅ __0.2. Importing the libraries__"
   ]
  },
  {
   "cell_type": "code",
   "execution_count": null,
   "metadata": {},
   "outputs": [],
   "source": [
    "import matplotlib.pyplot as plt\n",
    "\n",
    "from dtuprosys.chemometrics.modelling.cross_validation import cross_validation\n",
    "from dtuprosys.chemometrics.datasets import load_fermentation_data, load_train_data\n",
    "from dtuprosys.chemometrics.plotting import plot_spectra, plot_predictions, plot_fermentation\n",
    "from dtuprosys.chemometrics.preprocessing import RangeCut, Derivative, DriftCorrection\n",
    "from mbpls.mbpls import MBPLS"
   ]
  },
  {
   "cell_type": "markdown",
   "metadata": {},
   "source": [
    "## __Step 1. Explore the training data__"
   ]
  },
  {
   "cell_type": "markdown",
   "metadata": {},
   "source": [
    "### ✅ __Exercise 1.1. Load the training data.__"
   ]
  },
  {
   "cell_type": "markdown",
   "metadata": {},
   "source": [
    "__INSTRUCTIONS:__ load the training data and assign it to two variables: \n",
    "- ```train_spectra``` with the spectra data\n",
    "- ```train_hplc``` with the HPLC data\n",
    "\n",
    "The training data can be loaded using the ```load_train_data()``` function. An example of how to use this command is shown below:\n",
    "\n",
    "__Usage example:__\n",
    "```\n",
    "train_spectra, train_hplc = load_train_data()\n",
    "```"
   ]
  },
  {
   "cell_type": "code",
   "execution_count": null,
   "metadata": {},
   "outputs": [],
   "source": [
    "# Write your code below:\n"
   ]
  },
  {
   "cell_type": "markdown",
   "metadata": {},
   "source": [
    "##### __💡 Getting stuck?__  "
   ]
  },
  {
   "cell_type": "markdown",
   "metadata": {},
   "source": [
    "You can import the training data by typing the code below:\n",
    "\n",
    "```\n",
    "train_spectra, train_hplc = load_train_data()\n",
    "```"
   ]
  },
  {
   "cell_type": "markdown",
   "metadata": {},
   "source": [
    "### ✅ __Exercise 1.2. Inspect the training data__"
   ]
  },
  {
   "cell_type": "markdown",
   "metadata": {},
   "source": [
    "__INSTRUCTIONS:__ inspect the ```train_spectra``` and ```train_hplc``` datasets."
   ]
  },
  {
   "cell_type": "markdown",
   "metadata": {},
   "source": [
    "##### _Exercise 1.2.A: Inspect the dataset ```train_spectra```._"
   ]
  },
  {
   "cell_type": "code",
   "execution_count": null,
   "metadata": {},
   "outputs": [],
   "source": [
    "# Run this cell to visualize the variable train_spectra\n",
    "train_spectra"
   ]
  },
  {
   "cell_type": "markdown",
   "metadata": {},
   "source": [
    "##### __💡 Getting stuck?__  "
   ]
  },
  {
   "cell_type": "markdown",
   "metadata": {},
   "source": [
    "Run the cell above to display an overview of the ```train_spectra``` table."
   ]
  },
  {
   "cell_type": "markdown",
   "metadata": {},
   "source": [
    "##### _Exercise 1.2.B: Inspect the dataset ```train_hplc```._"
   ]
  },
  {
   "cell_type": "code",
   "execution_count": null,
   "metadata": {},
   "outputs": [],
   "source": [
    "# Run this cell to visualize the variable train_hplc.\n",
    "# Write your code below:\n",
    "\n"
   ]
  },
  {
   "cell_type": "markdown",
   "metadata": {},
   "source": [
    "##### __💡 Getting stuck?__  "
   ]
  },
  {
   "cell_type": "markdown",
   "metadata": {},
   "source": [
    "To display the ```train_hplc``` table, run the following code in the cell above:\n",
    "\n",
    "```\n",
    "train_hplc\n",
    "```"
   ]
  },
  {
   "cell_type": "markdown",
   "metadata": {},
   "source": [
    "##### _Exercise 1.2.C: Check the sizes of the ```train_spectra``` and the ```train_hplc```._"
   ]
  },
  {
   "cell_type": "markdown",
   "metadata": {},
   "source": [
    "__INSTRUCTIONS:__ Identify the dimensions of each table. This can be done using the ```.shape``` attribute.\n",
    "\n",
    "__Example:__\n",
    "To find the dimensions of the ```train_spectra``` you can use the following code:\n",
    "\n",
    "```\n",
    "dimensions_train_spectra = train_spectra.shape\n",
    "```"
   ]
  },
  {
   "cell_type": "code",
   "execution_count": null,
   "metadata": {},
   "outputs": [],
   "source": [
    "# Run this cell to get the dimensions of the train_spectra table and assign it to the variable train_spectra.\n",
    "dimensions_train_spectra = \n",
    "\n",
    "# Find the dimensions of the train_hplc and assign it to the variable dimensions_train_hplc.\n",
    "# Write your code below:\n",
    "dimensions_train_hplc = \n",
    "\n",
    "\n",
    "#! DO NOT MODIFY THE CODE BELOW !\n",
    "# ------------------------------#\n",
    "print(\"The train_spectra table has {} rows and {} columns.\".format(dimensions_train_spectra[0], dimensions_train_spectra[1]))\n",
    "print(\"The train_hplc table has {} rows and {} columns.\".format(dimensions_train_hplc[0], dimensions_train_hplc[1]))\n",
    "# ------------------------------#"
   ]
  },
  {
   "cell_type": "markdown",
   "metadata": {},
   "source": [
    "##### __💡 Getting stuck?__  "
   ]
  },
  {
   "cell_type": "markdown",
   "metadata": {},
   "source": [
    "- To find the size of the ``` train_spectra``` type:\n",
    "\n",
    "```dimensions_train_spectra = train_spectra.shape```\n",
    "\n",
    "- To find the size of the ``` train_hplc``` type:\n",
    "\n",
    "```dimensions_train_hplc = train_hplc.shape```"
   ]
  },
  {
   "cell_type": "markdown",
   "metadata": {},
   "source": [
    "### ✅ __Exercise 1.3 Plot the training data__"
   ]
  },
  {
   "cell_type": "markdown",
   "metadata": {},
   "source": [
    "__INSTRUCTIONS:__ plot the ```train_spectra``` and color them according to the glucose concentration. \n",
    "\n",
    "Plotting the spectra is a good way to get a first impression of the data. The spectra can be plot using the ```plot_spectra()``` function.\n",
    "\n",
    "__Usage example:__ \n",
    "\n",
    "```plot_spectra(train_spectra, title, x_label, y_label, reference=train_hplc)```"
   ]
  },
  {
   "cell_type": "code",
   "execution_count": null,
   "metadata": {},
   "outputs": [],
   "source": [
    "# Run this cell to visualize train_spectra.\n",
    "# Write your code below:\n",
    "title = \"\"\n",
    "x_label = \"\"\n",
    "y_label = \"\"\n",
    "\n",
    "\n",
    "#! DO NOT MODIFY THE CODE BELOW !\n",
    "# ------------------------------#\n",
    "plt.show()\n",
    "# ------------------------------#"
   ]
  },
  {
   "cell_type": "markdown",
   "metadata": {},
   "source": [
    "##### __💡 Getting stuck?__  "
   ]
  },
  {
   "cell_type": "markdown",
   "metadata": {},
   "source": [
    "You can use the code below to plot the spectra.\n",
    "\n",
    "```\n",
    "title = \"Spectra used for training\"\n",
    "x_label = \"Wavenumbers\"\n",
    "y_label = \"Absorbance\"\n",
    "plot_spectra(train_spectra, title, x_label, y_label, reference=train_hplc)\n",
    "```"
   ]
  },
  {
   "cell_type": "markdown",
   "metadata": {},
   "source": [
    "## __Step 2. Preprocess the training data__"
   ]
  },
  {
   "cell_type": "markdown",
   "metadata": {},
   "source": [
    "Preprocessing the spectra is fundamental for variable selection and to remove systematic noise from the data. In this step, we will preprocess the training data to prepare it for the model training."
   ]
  },
  {
   "cell_type": "markdown",
   "metadata": {},
   "source": [
    "### ✅ __Exercise 2.1. Preprocessing the spectra__"
   ]
  },
  {
   "cell_type": "markdown",
   "metadata": {},
   "source": [
    "__INSTRUCTIONS:__ preprocess the spectra concatenating three preprocessing steps:\n",
    "\n",
    "- Range cut (between 500 and 900)\n",
    "- Drift correction\n",
    "- Derivative (second order)\n",
    "\n"
   ]
  },
  {
   "cell_type": "markdown",
   "metadata": {},
   "source": [
    "##### _Exercise 2.1.A: Configure the preprocessing steps_"
   ]
  },
  {
   "cell_type": "markdown",
   "metadata": {},
   "source": [
    "First, the different preprocessing steps need to be configured.\n",
    "\n",
    "- Configureing the ```RangeCut()```: the range cut needs to be configured by setting the minimum and maximum wavenumbers (```min_wavenumber``` and ```min_wavenumber```, respectively) to be considered. \n",
    "\n",
    "- Configuring the ```DriftCorrection()```: the drift correction does not require any specific configuration.\n",
    "\n",
    "- Configureing the ```Derivative()```: the derivative needs to be configured by setting the order of the derivative (```derivative_order```)."
   ]
  },
  {
   "cell_type": "code",
   "execution_count": null,
   "metadata": {},
   "outputs": [],
   "source": [
    "# Range cut (between 500 and 900)\n",
    "min_wavenumber =\n",
    "max_wavenumber =\n",
    "include_range_cut = True\n",
    "range_cut = RangeCut(min_wavenumber, max_wavenumber, include=include_range_cut)\n",
    "\n",
    "# Drift correction\n",
    "include_drift_correction=True\n",
    "drift_correction = DriftCorrection(include=include_drift_correction)\n",
    "\n",
    "# Derivative (second order)\n",
    "derivative_order = \n",
    "include_derivative = True\n",
    "derivative = Derivative(derivative_order, include=include_derivative)"
   ]
  },
  {
   "cell_type": "markdown",
   "metadata": {},
   "source": [
    "##### __💡 Getting stuck?__"
   ]
  },
  {
   "cell_type": "markdown",
   "metadata": {},
   "source": [
    "You can configure the preprocessing steps by typing the code below:\n",
    "\n",
    "```\n",
    "range_cut = RangeCut(min_wavenumber=500, max_wavenumber=900, include=True)\n",
    "drift_correction = DriftCorrection(include=True)\n",
    "derivative = Derivative(derivative_order=1, include=True)\n",
    "```\n"
   ]
  },
  {
   "cell_type": "markdown",
   "metadata": {},
   "source": [
    "#### _Exercise 2.1.B: Apply ```range_cut``` to ```train_spectra```_"
   ]
  },
  {
   "cell_type": "code",
   "execution_count": null,
   "metadata": {},
   "outputs": [],
   "source": [
    "# Write your code below:\n",
    "\n",
    "# Apply the range cut to train_spectra using the .apply_to() method. Then assign it to the variable range_cut_spectra.\n",
    "range_cut_spectra = \n",
    "\n",
    "# Use the plot_spectra() function to visualize the range cut.\n",
    "title = \"\"\n",
    "x_label = \"\"\n",
    "y_label = \"\"\n",
    "\n",
    "\n",
    "#! DO NOT MODIFY THE CODE BELOW !\n",
    "# ------------------------------#\n",
    "plt.show()\n",
    "# ------------------------------#"
   ]
  },
  {
   "cell_type": "markdown",
   "metadata": {},
   "source": [
    "##### __💡 Getting stuck?__"
   ]
  },
  {
   "cell_type": "markdown",
   "metadata": {},
   "source": [
    "- To apply the ```range_cut``` to the ```train_spectra``` type:\n",
    "\n",
    "```\n",
    "range_cut_spectra = range_cut.apply_to(train_spectra)\n",
    "```\n",
    "\n",
    "- To plot the spectra after the range cut, type:\n",
    "\n",
    "```\n",
    "title = \"Spectra after range cut\"\n",
    "x_label = \"Wavenumbers\"\n",
    "y_label = \"Absorbance\"\n",
    "plot_spectra(range_cut_spectra, title, x_label, y_label, reference=train_hplc)\n",
    "```"
   ]
  },
  {
   "cell_type": "markdown",
   "metadata": {},
   "source": [
    "#### _Exercise 2.1.C: Apply ```drift_correction``` to ```range_cut_spectra```_"
   ]
  },
  {
   "cell_type": "markdown",
   "metadata": {},
   "source": [
    "Drift correction is a simple way to remove scatter from the spectra. Below, drift correct the ```range_cut_spectra``` and assign it to the variable ```drift_corrected_spectra```."
   ]
  },
  {
   "cell_type": "code",
   "execution_count": null,
   "metadata": {},
   "outputs": [],
   "source": [
    "# Write your code below:\n",
    "\n",
    "# Apply the drift correction to range_cut_spectra using the .apply_to() method. Then assign it to the variable drift_correct_spectra.\n",
    "drift_corrected_spectra = \n",
    "\n",
    "# Use the plot_spectra() function to visualize the drift corrected spectra.\n",
    "title = \"\"\n",
    "x_label = \"\"\n",
    "y_label = \"\"\n",
    "\n",
    "\n",
    "#! DO NOT MODIFY THE CODE BELOW !\n",
    "# ------------------------------#\n",
    "plt.show()\n",
    "# ------------------------------#"
   ]
  },
  {
   "cell_type": "markdown",
   "metadata": {},
   "source": [
    "##### __💡 Getting stuck?__"
   ]
  },
  {
   "cell_type": "markdown",
   "metadata": {},
   "source": [
    "- To apply the ```drift_correction``` to the ```range_cut_spectra``` type:\n",
    "\n",
    "```\n",
    "drift_corrected_spectra = drift_correction.apply_to(range_cut_spectra)\n",
    "```\n",
    "\n",
    "- To plot the spectra after the drift correction, type:\n",
    "\n",
    "```\n",
    "title = \"Spectra after drift correction\"\n",
    "x_label = \"Wavenumbers\"\n",
    "y_label = \"Absorbance\"\n",
    "plot_spectra(drift_corrected_spectra, title, x_label, y_label, reference=train_hplc)\n",
    "```\n"
   ]
  },
  {
   "cell_type": "markdown",
   "metadata": {},
   "source": [
    "#### _Exercise 2.1.D: Apply ```derivative``` to ```drift_corrected_spectra```_"
   ]
  },
  {
   "cell_type": "markdown",
   "metadata": {},
   "source": [
    "Derivating a spectra is a very common way to remove additive and multiplicative scatter from the spectra. Below, derivate the ```drift_corrected_spectra``` and assign it to the variable ```derivative_spectra```."
   ]
  },
  {
   "cell_type": "code",
   "execution_count": null,
   "metadata": {},
   "outputs": [],
   "source": [
    "# Write your code below:\n",
    "\n",
    "# Apply the derivative to drift_corrected_spectra using the .apply_to() method and assign it to the variable derivative_spectra.\n",
    "derivative_spectra =\n",
    "\n",
    "# Use the plot_spectra() function to visualize the derivative spectra.\n",
    "title = \"\"\n",
    "x_label = \"\"\n",
    "y_label = \"\"\n",
    "\n",
    "\n",
    "#! DO NOT MODIFY THE CODE BELOW !\n",
    "# ------------------------------#\n",
    "plt.show()\n",
    "# ------------------------------#"
   ]
  },
  {
   "cell_type": "markdown",
   "metadata": {},
   "source": [
    "##### __💡 Getting stuck?__"
   ]
  },
  {
   "cell_type": "markdown",
   "metadata": {},
   "source": [
    "- To apply the ```derivative``` to the ```drift_corrected_spectra``` type:\n",
    "\n",
    "```\n",
    "derivative_spectra = derivative.apply_to(drift_corrected_spectra)\n",
    "```\n",
    "\n",
    "- To plot the spectra after the derivative, type:\n",
    "\n",
    "```\n",
    "title = \"Spectra after derivative\"\n",
    "x_label = \"Wavenumbers\"\n",
    "y_label = \"Absorbance\"\n",
    "plot_spectra(derivative_spectra, title, x_label, y_label, reference=train_hplc)\n",
    "```"
   ]
  },
  {
   "cell_type": "markdown",
   "metadata": {},
   "source": [
    "##### _Exercise 2.1.E: Define the ```processed_spectra``` variable_"
   ]
  },
  {
   "cell_type": "code",
   "execution_count": null,
   "metadata": {},
   "outputs": [],
   "source": [
    "# Define the processed spectra variable as the derivative_spectra.\n",
    "preprocessed_spectra = derivative_spectra"
   ]
  },
  {
   "cell_type": "markdown",
   "metadata": {},
   "source": [
    "## __Step 3. Train the model__"
   ]
  },
  {
   "cell_type": "markdown",
   "metadata": {},
   "source": [
    "The next step is training the PLS model. To do so, we first need to specify the number of components to use in the PLS model. This can be achieved using a corss-validation procedure (Exercise 3.1). Then, we can train the PLS model (Exercise 3.2)."
   ]
  },
  {
   "cell_type": "markdown",
   "metadata": {},
   "source": [
    "### ✅ __Exercise 3.1. Cross-validation__"
   ]
  },
  {
   "cell_type": "markdown",
   "metadata": {},
   "source": [
    "__INSTRUCTIONS:__ perform a cross-validation to find the optimal number of components to use in the PLS model. The cross-validation can be performed using the ```cross_validation()``` function. This function will output a plot showing the RMSE and RMSECV (Root Mean Squared Error and Root Mean Squared Error of the Cross Validation) for the different number of components.\n",
    "\n",
    "__Usage example:__ \n",
    "\n",
    "```cross_validation(preprocessed_spectra, train_hplc)```"
   ]
  },
  {
   "cell_type": "code",
   "execution_count": null,
   "metadata": {},
   "outputs": [],
   "source": [
    "# Cross validation\n",
    "# Write your code below:\n",
    "\n",
    "\n",
    "# ! DO NOT MODIFY THE CODE BELOW !\n",
    "# ------------------------------#\n",
    "plt.show()\n",
    "# ------------------------------#"
   ]
  },
  {
   "cell_type": "markdown",
   "metadata": {},
   "source": [
    "According to your cross-validation, what is the number of latent variables that you would select for this model? "
   ]
  },
  {
   "cell_type": "code",
   "execution_count": null,
   "metadata": {},
   "outputs": [],
   "source": [
    "# Writ your code below:\n",
    "nr_latent_variables =\n",
    "\n",
    "# ! DO NOT MODIFY THE CODE BELOW !\n",
    "# ------------------------------#\n",
    "print(\"The number of latent variables is {}.\".format(nr_latent_variables))\n",
    "# ------------------------------#"
   ]
  },
  {
   "cell_type": "markdown",
   "metadata": {},
   "source": [
    "##### __💡 Getting stuck?__"
   ]
  },
  {
   "cell_type": "markdown",
   "metadata": {},
   "source": [
    "You can use the code below to perform the cross-validation.\n",
    "\n",
    "```\n",
    "cross_validation(preprocessed_spectra, train_hplc)\n",
    "```"
   ]
  },
  {
   "cell_type": "markdown",
   "metadata": {},
   "source": [
    "### ✅ __Exercise 3.2. Training the PLS model__"
   ]
  },
  {
   "cell_type": "markdown",
   "metadata": {},
   "source": [
    "__INSTRUCTIONS:__ train the PLS model using the ```MBPLS``` module. This allows training the PLS model and predicting the glucose concentration. The model is then evaluated using the ```plot_predictions()``` function, which will show two outputs:\n",
    "\n",
    "- A plot showing the predicted glucose concentration and the measured glucose concentration.\n",
    "- The RMSE (Root Mean Squared Error) of the model.\n",
    "\n",
    "__Usage example:__ \n",
    "\n",
    "```plot_predictions(predictions, train_hplc)```\n",
    "\n"
   ]
  },
  {
   "cell_type": "code",
   "execution_count": null,
   "metadata": {},
   "outputs": [],
   "source": [
    "# Define the MBPLS model with the number of latent variables you have chosen. \n",
    "model = MBPLS(n_components=nr_latent_variables, method='NIPALS')\n",
    "\n",
    "# Use the fit_predict() method to \n",
    "# - train the model\n",
    "# - predict the glucose concentration from the preprocessed spectra\n",
    "predictions = model.fit_predict(preprocessed_spectra, train_hplc)\n",
    "\n",
    "# Evaluate the performance of the model using the plot_predictions() function.\n",
    "# Write your code below:\n",
    "\n",
    "\n",
    "# ! DO NOT MODIFY THE CODE BELOW !\n",
    "# ------------------------------#\n",
    "plt.show()\n",
    "# ------------------------------#"
   ]
  },
  {
   "cell_type": "markdown",
   "metadata": {},
   "source": [
    "##### __💡 Getting stuck?__"
   ]
  },
  {
   "cell_type": "markdown",
   "metadata": {},
   "source": [
    "The model definition is already provided in the code above, you just need to evaluate the model using the ```plot_predictions()``` function.\n",
    "\n",
    "```\n",
    "plot_predictions(predictions, train_hplc)\n",
    "```"
   ]
  },
  {
   "cell_type": "markdown",
   "metadata": {},
   "source": [
    "## __Step 4. Explore the fermentation data__"
   ]
  },
  {
   "cell_type": "markdown",
   "metadata": {},
   "source": [
    "### ✅ __Exercise 4.1. Load  and inspecting the fermentation data__"
   ]
  },
  {
   "cell_type": "markdown",
   "metadata": {},
   "source": [
    "##### _Exercise 4.1.A: Load the fermentation data_"
   ]
  },
  {
   "cell_type": "markdown",
   "metadata": {},
   "source": [
    "__INSTRUCTIONS:__ load the fermentation data using the ```load_fermentation_data()``` function. This function will return two variables:\n",
    "\n",
    "- ```fermentation_spectra```: the spectra of the fermentation data.\n",
    "- ```fermentation_hplc```: the glucose concentration of the fermentation data.\n",
    "\n",
    "__Usage example:__ \n",
    "\n",
    "```fermentation_spectra, fermentation_hplc = load_fermentation_data()```"
   ]
  },
  {
   "cell_type": "code",
   "execution_count": null,
   "metadata": {},
   "outputs": [],
   "source": [
    "# Write your code below:"
   ]
  },
  {
   "cell_type": "markdown",
   "metadata": {},
   "source": [
    "##### __💡 Getting stuck?__"
   ]
  },
  {
   "cell_type": "markdown",
   "metadata": {},
   "source": [
    "You can load the fermentation data using the code below:\n",
    "\n",
    "```\n",
    "fermentation_spectra, fermentation_hplc = load_fermentation_data()\n",
    "```"
   ]
  },
  {
   "cell_type": "markdown",
   "metadata": {},
   "source": [
    "##### _Exercise 4.1.B: Inspect the fermentation data_"
   ]
  },
  {
   "cell_type": "code",
   "execution_count": null,
   "metadata": {},
   "outputs": [],
   "source": [
    "# Find the dimensions of the fermentation_spectra and the fermentation_hplc and assign them to the variables \n",
    "# - dimensions_fermentation_spectra  \n",
    "# - dimensions_fermentation_hplc\n",
    "\n",
    "# Write your code below:\n",
    "dimensions_fermentation_spectra =\n",
    "dimensions_fermentation_hplc = \n",
    "\n",
    "\n",
    "#! DO NOT MODIFY THE CODE BELOW !\n",
    "# ------------------------------#\n",
    "print(\"The fermentation_spectra table has {} rows and {} columns.\".format(dimensions_fermentation_spectra[0], dimensions_fermentation_spectra[1]))\n",
    "print(\"The fermentation_hplc table has {} rows and {} columns.\".format(dimensions_fermentation_hplc[0], dimensions_fermentation_hplc[1]))\n",
    "# ------------------------------#"
   ]
  },
  {
   "cell_type": "markdown",
   "metadata": {},
   "source": [
    "##### __💡 Getting stuck?__"
   ]
  },
  {
   "cell_type": "markdown",
   "metadata": {},
   "source": [
    "You can find the dimensions of the fermentation spectra or hplc using the ```shape``` attribute. Type the code below:\n",
    "\n",
    "```\n",
    "dimensions_fermentation_spectra = fermentation_spectra.shape\n",
    "dimensions_fermentation_hplc = fermentation_hplc.shape\n",
    "```\n",
    "\n",
    "```"
   ]
  },
  {
   "cell_type": "markdown",
   "metadata": {},
   "source": [
    "## __Step 5. Preprocess the fermentation data__"
   ]
  },
  {
   "cell_type": "markdown",
   "metadata": {},
   "source": [
    "### ✅ __Exercise 5.1. Preprocess the data using the sequence defined in Step 2__"
   ]
  },
  {
   "cell_type": "markdown",
   "metadata": {},
   "source": [
    "__INSTRUCTIONS:__ preprocess the fermentation data using the sequence defined in Step 2. Remember that the sequence was the following:\n",
    "\n",
    "- ```range_cut```\n",
    "- ```drift_correction```\n",
    "- ```derivative```\n",
    "\n",
    "and they can be applyed using the ```.apply_to()``` method."
   ]
  },
  {
   "cell_type": "code",
   "execution_count": null,
   "metadata": {},
   "outputs": [],
   "source": [
    "# Write your code below:\n",
    "# Range cut\n",
    "fermentation_range_cut = \n",
    "\n",
    "# Drift correction\n",
    "fermentation_drift_corrected =\n",
    "\n",
    "# Derivative\n",
    "fermentation_derivative = \n",
    "\n",
    "# In this cell, we will define the variable preprocessed_fermentation_spectra, as the output of the final preprocessing step\n",
    "fermentation_processed_spectra ="
   ]
  },
  {
   "cell_type": "markdown",
   "metadata": {},
   "source": [
    "##### __💡 Getting stuck?__"
   ]
  },
  {
   "cell_type": "markdown",
   "metadata": {},
   "source": [
    "You can apply the preprocessing steps using the code below:\n",
    "    \n",
    "```\n",
    "fermentation_range_cut = range_cut.apply_to(fermentation_spectra)\n",
    "fermentation_drift_corrected = drift_correction.apply_to(fermentation_range_cut)\n",
    "fermentation_derivative = derivative.apply_to(fermentation_drift_corrected)\n",
    "```\n",
    "and then assign the result to the variable ```fermentation_processed_spectra```.\n",
    "\n",
    "```\n",
    "fermentation_processed_spectra = fermentation_derivative\n",
    "```"
   ]
  },
  {
   "cell_type": "markdown",
   "metadata": {},
   "source": [
    "## __Step 6. Predict the glucose concentration from the fermentation data__"
   ]
  },
  {
   "cell_type": "markdown",
   "metadata": {},
   "source": [
    "### ✅ __Exercise 6.1. Predict the glucose concentration with the PLS model trained in Step 3__"
   ]
  },
  {
   "cell_type": "markdown",
   "metadata": {},
   "source": [
    "__INSTRUCTIONS:__ predict the glucose concentration from the fermentation data using the PLS model trained in Step 3. The model can be applied using the ```.predict()``` method to the ```fermentation_processed_spectra```."
   ]
  },
  {
   "cell_type": "code",
   "execution_count": null,
   "metadata": {},
   "outputs": [],
   "source": [
    "# Write your code below:\n",
    "fermentation_predictions = "
   ]
  },
  {
   "cell_type": "markdown",
   "metadata": {},
   "source": [
    "##### __💡 Getting stuck?__"
   ]
  },
  {
   "cell_type": "markdown",
   "metadata": {},
   "source": [
    "You can apply the model using the code below:\n",
    "\n",
    "```\n",
    "fermentation_predictions = model.predict(fermentation_processed_spectra)\n",
    "```"
   ]
  },
  {
   "cell_type": "markdown",
   "metadata": {},
   "source": [
    "### ✅ __Exercise 6.2. Evaluate the predictions using the PLS models__"
   ]
  },
  {
   "cell_type": "markdown",
   "metadata": {},
   "source": [
    "__INSTRUCTIONS:__ evaluate the predictions using the ```plot_fermentation()``` function. This function will show two outputs:\n",
    "\n",
    "- A plot showing the predicted glucose concentration and the measured glucose concentration over time.\n",
    "- The RMSE (Root Mean Squared Error) of the model.\n",
    "\n",
    "__Usage example:__ \n",
    "\n",
    "```plot_fermentation(fermentation_predictions, fermentation_hplc)```"
   ]
  },
  {
   "cell_type": "code",
   "execution_count": null,
   "metadata": {},
   "outputs": [],
   "source": [
    "# Write your code below:\n"
   ]
  },
  {
   "cell_type": "markdown",
   "metadata": {},
   "source": [
    "##### __💡 Getting stuck?__"
   ]
  },
  {
   "cell_type": "markdown",
   "metadata": {},
   "source": [
    "You can evaluate the model using the code below:\n",
    "\n",
    "```\n",
    "plot_fermentation(fermentation_predictions, fermentation_hplc)\n",
    "```"
   ]
  },
  {
   "cell_type": "markdown",
   "metadata": {},
   "source": [
    "### END OF EXERCISE"
   ]
  }
 ],
 "metadata": {
  "kernelspec": {
   "display_name": "Python 3.7.14 ('dtu.prosys-K_ZaLelD')",
   "language": "python",
   "name": "python3"
  },
  "language_info": {
   "codemirror_mode": {
    "name": "ipython",
    "version": 3
   },
   "file_extension": ".py",
   "mimetype": "text/x-python",
   "name": "python",
   "nbconvert_exporter": "python",
   "pygments_lexer": "ipython3",
   "version": "3.7.14"
  },
  "orig_nbformat": 4,
  "vscode": {
   "interpreter": {
    "hash": "569f86755218f1efb950e5f139553c62e91e3414af285275e9c42aec8469122f"
   }
  }
 },
 "nbformat": 4,
 "nbformat_minor": 2
}
