{
 "cells": [
  {
   "cell_type": "markdown",
   "metadata": {},
   "source": [
    "## Fermentation PAT course 2022\n",
    "### Application of PAT to fermentation processes\n",
    "\n",
    "Technical University of Denmark (DTU)\n",
    "\n",
    "Department of Chemical and Biochemical Engineering, PROSYS\n",
    "\n",
    "__Author:__ Pau Cabaneros Lopez"
   ]
  },
  {
   "cell_type": "markdown",
   "metadata": {},
   "source": [
    "This exercise uses spectral data collected in _real-time_ during a lignocellulosic ethanol fermentation. These samples were taken using attenuated total refractance, mid infrared (ATR-MIR) spectroscopy. The reference data was taken using high performance liquid chromatography (HPLC). \n",
    "\n",
    "The datasets used in this project consist of:\n",
    "\n",
    "- Training dataset (containing both, spectra and the corresponding HPLC measurements).\n",
    "\n",
    "- Fermentation dataset: containing a timeseries of spectra collected in real time, and another timeseries of off-line HPLC measurements. \n",
    "\n",
    "For detailed information about the training and fermentation datasets, see  _Transforming data to information: A parallel hybrid model for real-time state estimation in lignocellulosic ethanol fermentation_.\n",
    "\n"
   ]
  },
  {
   "cell_type": "markdown",
   "metadata": {},
   "source": [
    "## Step 0. Set up the environment"
   ]
  },
  {
   "cell_type": "markdown",
   "metadata": {},
   "source": [
    "When we use Google Colab, we need to setup the environment by installing the required packages and importing the necessary libraries."
   ]
  },
  {
   "cell_type": "markdown",
   "metadata": {},
   "source": [
    "### 0.1. Installing the dependencies"
   ]
  },
  {
   "cell_type": "markdown",
   "metadata": {},
   "source": [
    "!pip install dtuprosys"
   ]
  },
  {
   "cell_type": "markdown",
   "metadata": {},
   "source": [
    "### 0.2. Importing the libraries"
   ]
  },
  {
   "cell_type": "code",
   "execution_count": 1,
   "metadata": {},
   "outputs": [],
   "source": [
    "from dtuprosys.chemometrics.modelling.cross_validation import cross_validation\n",
    "from dtuprosys.chemometrics.datasets import load_fermentation_data, load_train_data\n",
    "from dtuprosys.chemometrics.plotting import plot_spectra, plot_predictions, plot_fermentation\n",
    "from dtuprosys.chemometrics.preprocessing import RangeCut, Derivative, DriftCorrection\n",
    "from mbpls.mbpls import MBPLS"
   ]
  },
  {
   "cell_type": "markdown",
   "metadata": {},
   "source": [
    "## Step 1. Explore the training data"
   ]
  },
  {
   "cell_type": "markdown",
   "metadata": {},
   "source": [
    "### 1.1. Load the training data"
   ]
  },
  {
   "cell_type": "markdown",
   "metadata": {},
   "source": [
    "Train data is directly loaded using the ```load_train_data()``` function. In the cell below, create two variables ```train_spectra``` and ```train_hplc``` to store the training data.\n",
    "\n",
    "e.g. ```train_spectra, train_hplc = load_train_data()```"
   ]
  },
  {
   "cell_type": "code",
   "execution_count": 3,
   "metadata": {},
   "outputs": [],
   "source": [
    "# Write your code below:\n"
   ]
  },
  {
   "cell_type": "markdown",
   "metadata": {},
   "source": [
    "### 1.2. Inspect the training data"
   ]
  },
  {
   "cell_type": "markdown",
   "metadata": {},
   "source": [
    "To inspect the training data, we will first visualize each table. Below I show an example of how to visualize the training spectra:"
   ]
  },
  {
   "cell_type": "code",
   "execution_count": null,
   "metadata": {},
   "outputs": [],
   "source": [
    "# Run this cell to visualize the variable train_spectra\n",
    "train_spectra"
   ]
  },
  {
   "cell_type": "code",
   "execution_count": null,
   "metadata": {},
   "outputs": [],
   "source": [
    "# Run this cell to visualize the variable train_hplc.\n",
    "# Write your code below:\n"
   ]
  },
  {
   "cell_type": "markdown",
   "metadata": {},
   "source": [
    "Then, we would like to identify the dimensions of each table. We can do so with the ```.shape``` attribute. Below I show an example of how to inspect the dimensions of the training spectra:"
   ]
  },
  {
   "cell_type": "code",
   "execution_count": null,
   "metadata": {},
   "outputs": [],
   "source": [
    "# Run this cell to get the dimensions of the train_spectra table and assign it to the variable train_spectra.\n",
    "dimensions_train_spectra = train_spectra.shape\n",
    "\n",
    "# Find the dimensions of the train_hplc and assign it to the variable dimensions_train_hplc.\n",
    "# Write your code below:\n",
    "\n",
    "\n",
    "print(\"The train_spectra table has {} rows and {} columns.\".format(dimensions_train_spectra[0], dimensions_train_spectra[1]))\n",
    "print(\"The train_hplc table has {} rows and {} columns.\".format(dimensions_train_hplc[0], dimensions_train_hplc[1]))"
   ]
  },
  {
   "cell_type": "markdown",
   "metadata": {},
   "source": [
    "### 1.3 Plot the training data"
   ]
  },
  {
   "cell_type": "markdown",
   "metadata": {},
   "source": [
    "Plotting the spectra is a good way to get a first impression of the data. Fill in the code below to show the plots of the ```train_spectra``` using the function ```plot_spectra()```."
   ]
  },
  {
   "cell_type": "code",
   "execution_count": null,
   "metadata": {},
   "outputs": [],
   "source": [
    "# Run this cell to visualize train_spectra.\n",
    "# Write your code below:\n",
    "title = \"\"\n",
    "x_label = \"\"\n",
    "y_label = \"\"\n",
    "\n"
   ]
  },
  {
   "cell_type": "markdown",
   "metadata": {},
   "source": [
    "## Step 2. Preprocess the training data"
   ]
  },
  {
   "cell_type": "markdown",
   "metadata": {},
   "source": [
    "Preprocessing is fundamental to remove noise and improve the quality of the data. In this step, we will preprocess the training data to prepare it for the model training."
   ]
  },
  {
   "cell_type": "markdown",
   "metadata": {},
   "source": [
    "### 2.1. Range Cut"
   ]
  },
  {
   "cell_type": "markdown",
   "metadata": {},
   "source": [
    "Cut the spectra to the range of interest. The range of interest can be whatever you want, but it is recommended to use the range of the spectra between 900 and 1700 cm.\n"
   ]
  },
  {
   "cell_type": "code",
   "execution_count": null,
   "metadata": {},
   "outputs": [],
   "source": [
    "# Write your code below:\n",
    "# Range cut\n",
    "min_wavenumber =\n",
    "max_wavenumber =\n",
    "range_cut = RangeCut(min_wavenumber, max_wavenumber)\n",
    "\n",
    "# Apply the range cut to train_spectra using the .apply_to() method and assign it to the variable range_cut_spectra.\n",
    "range_cut_spectra = range_cut.apply_to(train_spectra)\n",
    "\n",
    "# Use the plot_spectra() function to visualize the range cut.\n",
    "title = \"\"\n",
    "x_label = \"\"\n",
    "y_label = \"\"\n"
   ]
  },
  {
   "cell_type": "markdown",
   "metadata": {},
   "source": [
    "### 2.2. Drift Correction\n"
   ]
  },
  {
   "cell_type": "markdown",
   "metadata": {},
   "source": [
    "Drift correction is a simple way to remove scatter from the spectra. Below, drift correct the ```range_cut_spectra``` and assign it to the variable ```drift_corrected_spectra```."
   ]
  },
  {
   "cell_type": "code",
   "execution_count": null,
   "metadata": {},
   "outputs": [],
   "source": [
    "# Write your code below:\n",
    "# Drift correction\n",
    "drift_correct = \n",
    "\n",
    "# Apply the drift correction to range_cut_spectra using the .apply_to() method and assign it to the variable drift_correct_spectra.\n",
    "drift_corrected_spectra = \n",
    "\n",
    "# Use the plot_spectra() function to visualize the drift corrected spectra.\n",
    "title = \"\"\n",
    "x_label = \"\"\n",
    "y_label = \"\"\n"
   ]
  },
  {
   "cell_type": "markdown",
   "metadata": {},
   "source": [
    "### 2.3. Derivative"
   ]
  },
  {
   "cell_type": "markdown",
   "metadata": {},
   "source": [
    "Derivating a spectra is a very common way to remove additive and multiplicative scatter from the spectra. Below, derivate the ```drift_corrected_spectra``` and assign it to the variable ```derivative_spectra```. Please, calculate the second derivate of the spectra."
   ]
  },
  {
   "cell_type": "code",
   "execution_count": null,
   "metadata": {},
   "outputs": [],
   "source": [
    "# Write your code below:\n",
    "# Derivative\n",
    "derivative_order =\n",
    "derovatove = \n",
    "\n",
    "# Apply the derivative to drift_corrected_spectra using the .apply_to() method and assign it to the variable derivative_spectra.\n",
    "derivative_spectra =\n",
    "\n",
    "# Use the plot_spectra() function to visualize the derivative spectra.\n",
    "title = \"\"\n",
    "x_label = \"\"\n",
    "y_label = \"\"\n"
   ]
  },
  {
   "cell_type": "markdown",
   "metadata": {},
   "source": [
    "## Step 3. Train the model"
   ]
  },
  {
   "cell_type": "markdown",
   "metadata": {},
   "source": [
    "The next step is training the PLS model. To do so, we first need to specify the number of components to use in the PLS model. This can be achieved using a corss-validation procedure. This is done using the function ```cross_validation()```. This function will output a plot showing the RMSE and RMSECV (Root Mean Squared Error and Root Mean Squared Error of the Cross Validation) for the different number of components.\n"
   ]
  }
 ],
 "metadata": {
  "kernelspec": {
   "display_name": "Python 3.7.14 ('dtu.prosys-K_ZaLelD')",
   "language": "python",
   "name": "python3"
  },
  "language_info": {
   "codemirror_mode": {
    "name": "ipython",
    "version": 3
   },
   "file_extension": ".py",
   "mimetype": "text/x-python",
   "name": "python",
   "nbconvert_exporter": "python",
   "pygments_lexer": "ipython3",
   "version": "3.7.14"
  },
  "orig_nbformat": 4,
  "vscode": {
   "interpreter": {
    "hash": "569f86755218f1efb950e5f139553c62e91e3414af285275e9c42aec8469122f"
   }
  }
 },
 "nbformat": 4,
 "nbformat_minor": 2
}
