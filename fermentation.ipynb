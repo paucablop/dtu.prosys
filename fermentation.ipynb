{
 "cells": [
  {
   "cell_type": "markdown",
   "metadata": {},
   "source": [
    "## Fermentation PAT course 2022\n",
    "### Application of PAT to fermentation processes\n",
    "\n",
    "Technical University of Denmark (DTU)\n",
    "\n",
    "Department of Chemical and Biochemical Engineering, PROSYS\n",
    "\n",
    "__Author:__ Pau Cabaneros Lopez"
   ]
  },
  {
   "cell_type": "markdown",
   "metadata": {},
   "source": [
    "This exercise uses spectral data collected in _real-time_ during a lignocellulosic ethanol fermentation. These samples were taken using attenuated total refractance, mid infrared (ATR-MIR) spectroscopy. The reference data was taken using high performance liquid chromatography (HPLC). \n",
    "\n",
    "The datasets used in this project consist of:\n",
    "\n",
    "- Training dataset (containing both, spectra and the corresponding HPLC measurements).\n",
    "\n",
    "- Fermentation dataset: containing a timeseries of spectra collected in real time, and another timeseries of off-line HPLC measurements. \n",
    "\n",
    "For detailed information about the training and fermentation datasets, see  _Transforming data to information: A parallel hybrid model for real-time state estimation in lignocellulosic ethanol fermentation_.\n",
    "\n"
   ]
  },
  {
   "cell_type": "markdown",
   "metadata": {},
   "source": [
    "## Step 0. Set up the environment"
   ]
  },
  {
   "cell_type": "markdown",
   "metadata": {},
   "source": [
    "When we use Google Colab, we need to setup the environment by installing the required packages and importing the necessary libraries."
   ]
  },
  {
   "cell_type": "markdown",
   "metadata": {},
   "source": [
    "### 0.1. Installing the dependencies"
   ]
  },
  {
   "cell_type": "code",
   "execution_count": 1,
   "metadata": {},
   "outputs": [
    {
     "name": "stdout",
     "output_type": "stream",
     "text": [
      "Collecting dtuprosys\n",
      "  Downloading dtuprosys-0.1.18-py3-none-any.whl (6.5 MB)\n",
      "\u001b[2K     \u001b[38;2;114;156;31m━━━━━━━━━━━━━━━━━━━━━━━━━━━━━━━━━━━━━━━━\u001b[0m \u001b[32m6.5/6.5 MB\u001b[0m \u001b[31m8.3 MB/s\u001b[0m eta \u001b[36m0:00:00\u001b[0mm eta \u001b[36m0:00:01\u001b[0m0:01\u001b[0m:01\u001b[0mm\n",
      "\u001b[?25hRequirement already satisfied: scipy in /home/paucablop/.local/share/virtualenvs/dtu.prosys-K_ZaLelD/lib/python3.7/site-packages (from dtuprosys) (1.7.3)\n",
      "Requirement already satisfied: numpy in /home/paucablop/.local/share/virtualenvs/dtu.prosys-K_ZaLelD/lib/python3.7/site-packages (from dtuprosys) (1.21.6)\n",
      "Requirement already satisfied: matplotlib in /home/paucablop/.local/share/virtualenvs/dtu.prosys-K_ZaLelD/lib/python3.7/site-packages (from dtuprosys) (3.5.3)\n",
      "Requirement already satisfied: mbpls in /home/paucablop/.local/share/virtualenvs/dtu.prosys-K_ZaLelD/lib/python3.7/site-packages (from dtuprosys) (1.0.4)\n",
      "Requirement already satisfied: pandas in /home/paucablop/.local/share/virtualenvs/dtu.prosys-K_ZaLelD/lib/python3.7/site-packages (from dtuprosys) (1.3.5)\n",
      "Requirement already satisfied: scikit-learn in /home/paucablop/.local/share/virtualenvs/dtu.prosys-K_ZaLelD/lib/python3.7/site-packages (from dtuprosys) (1.0.2)\n",
      "Requirement already satisfied: pillow>=6.2.0 in /home/paucablop/.local/share/virtualenvs/dtu.prosys-K_ZaLelD/lib/python3.7/site-packages (from matplotlib->dtuprosys) (9.2.0)\n",
      "Requirement already satisfied: python-dateutil>=2.7 in /home/paucablop/.local/share/virtualenvs/dtu.prosys-K_ZaLelD/lib/python3.7/site-packages (from matplotlib->dtuprosys) (2.8.2)\n",
      "Requirement already satisfied: fonttools>=4.22.0 in /home/paucablop/.local/share/virtualenvs/dtu.prosys-K_ZaLelD/lib/python3.7/site-packages (from matplotlib->dtuprosys) (4.33.3)\n",
      "Requirement already satisfied: kiwisolver>=1.0.1 in /home/paucablop/.local/share/virtualenvs/dtu.prosys-K_ZaLelD/lib/python3.7/site-packages (from matplotlib->dtuprosys) (1.4.3)\n",
      "Requirement already satisfied: pyparsing>=2.2.1 in /home/paucablop/.local/share/virtualenvs/dtu.prosys-K_ZaLelD/lib/python3.7/site-packages (from matplotlib->dtuprosys) (3.0.9)\n",
      "Requirement already satisfied: packaging>=20.0 in /home/paucablop/.local/share/virtualenvs/dtu.prosys-K_ZaLelD/lib/python3.7/site-packages (from matplotlib->dtuprosys) (21.3)\n",
      "Requirement already satisfied: cycler>=0.10 in /home/paucablop/.local/share/virtualenvs/dtu.prosys-K_ZaLelD/lib/python3.7/site-packages (from matplotlib->dtuprosys) (0.11.0)\n",
      "Requirement already satisfied: pytz>=2017.3 in /home/paucablop/.local/share/virtualenvs/dtu.prosys-K_ZaLelD/lib/python3.7/site-packages (from pandas->dtuprosys) (2022.1)\n",
      "Requirement already satisfied: joblib>=0.11 in /home/paucablop/.local/share/virtualenvs/dtu.prosys-K_ZaLelD/lib/python3.7/site-packages (from scikit-learn->dtuprosys) (1.1.0)\n",
      "Requirement already satisfied: threadpoolctl>=2.0.0 in /home/paucablop/.local/share/virtualenvs/dtu.prosys-K_ZaLelD/lib/python3.7/site-packages (from scikit-learn->dtuprosys) (3.1.0)\n",
      "Requirement already satisfied: typing-extensions in /home/paucablop/.local/share/virtualenvs/dtu.prosys-K_ZaLelD/lib/python3.7/site-packages (from kiwisolver>=1.0.1->matplotlib->dtuprosys) (4.4.0)\n",
      "Requirement already satisfied: six>=1.5 in /home/paucablop/.local/share/virtualenvs/dtu.prosys-K_ZaLelD/lib/python3.7/site-packages (from python-dateutil>=2.7->matplotlib->dtuprosys) (1.16.0)\n",
      "Installing collected packages: dtuprosys\n",
      "Successfully installed dtuprosys-0.1.18\n"
     ]
    }
   ],
   "source": [
    "!pip install dtuprosys"
   ]
  },
  {
   "cell_type": "markdown",
   "metadata": {},
   "source": [
    "### 0.2. Importing the libraries"
   ]
  },
  {
   "cell_type": "code",
   "execution_count": 2,
   "metadata": {},
   "outputs": [],
   "source": [
    "from dtuprosys.chemometrics.modelling.cross_validation import cross_validation\n",
    "from dtuprosys.chemometrics.datasets import load_fermentation_data, load_train_data\n",
    "from dtuprosys.chemometrics.plotting import plot_spectra, plot_predictions, plot_fermentation\n",
    "from dtuprosys.chemometrics.preprocessing import RangeCut, Derivative, DriftCorrection\n",
    "from mbpls.mbpls import MBPLS"
   ]
  },
  {
   "cell_type": "markdown",
   "metadata": {},
   "source": [
    "## Step 1. Explore the training data"
   ]
  },
  {
   "cell_type": "markdown",
   "metadata": {},
   "source": [
    "### Exercise 1.1. Load the training data"
   ]
  },
  {
   "cell_type": "markdown",
   "metadata": {},
   "source": [
    "Training data is directly loaded using the ```load_train_data()``` function. In the cell below, create two variables ```train_spectra``` and ```train_hplc``` to store the training data.\n",
    "\n",
    "e.g. ```train_spectra, train_hplc = load_train_data()```"
   ]
  },
  {
   "cell_type": "code",
   "execution_count": 3,
   "metadata": {},
   "outputs": [],
   "source": [
    "# Write your code below:\n"
   ]
  },
  {
   "cell_type": "markdown",
   "metadata": {},
   "source": [
    "### Exercise 1.2. Inspect the training data"
   ]
  },
  {
   "cell_type": "markdown",
   "metadata": {},
   "source": [
    "To inspect the training data, we will first visualize each table. Below I show an example of how to visualize the training spectra:"
   ]
  },
  {
   "cell_type": "code",
   "execution_count": 4,
   "metadata": {},
   "outputs": [
    {
     "ename": "NameError",
     "evalue": "name 'train_spectra' is not defined",
     "output_type": "error",
     "traceback": [
      "\u001b[0;31m---------------------------------------------------------------------------\u001b[0m",
      "\u001b[0;31mNameError\u001b[0m                                 Traceback (most recent call last)",
      "\u001b[0;32m/tmp/ipykernel_95758/3083753530.py\u001b[0m in \u001b[0;36m<module>\u001b[0;34m\u001b[0m\n\u001b[1;32m      1\u001b[0m \u001b[0;31m# Run this cell to visualize the variable train_spectra\u001b[0m\u001b[0;34m\u001b[0m\u001b[0;34m\u001b[0m\u001b[0;34m\u001b[0m\u001b[0m\n\u001b[0;32m----> 2\u001b[0;31m \u001b[0mtrain_spectra\u001b[0m\u001b[0;34m\u001b[0m\u001b[0;34m\u001b[0m\u001b[0m\n\u001b[0m",
      "\u001b[0;31mNameError\u001b[0m: name 'train_spectra' is not defined"
     ]
    }
   ],
   "source": [
    "# Run this cell to visualize the variable train_spectra\n",
    "train_spectra"
   ]
  },
  {
   "cell_type": "code",
   "execution_count": null,
   "metadata": {},
   "outputs": [],
   "source": [
    "# Run this cell to visualize the variable train_hplc.\n",
    "# Write your code below:\n"
   ]
  },
  {
   "cell_type": "markdown",
   "metadata": {},
   "source": [
    "Then, we would like to identify the dimensions of each table. We can do so with the ```.shape``` attribute. Below I show an example of how to inspect the dimensions of the training spectra:"
   ]
  },
  {
   "cell_type": "code",
   "execution_count": null,
   "metadata": {},
   "outputs": [],
   "source": [
    "# Run this cell to get the dimensions of the train_spectra table and assign it to the variable train_spectra.\n",
    "dimensions_train_spectra = train_spectra.shape\n",
    "\n",
    "# Find the dimensions of the train_hplc and assign it to the variable dimensions_train_hplc.\n",
    "# Write your code below:\n",
    "dimensions_train_hplc = \n",
    "\n",
    "# Do not modify the code below!\n",
    "print(\"The train_spectra table has {} rows and {} columns.\".format(dimensions_train_spectra[0], dimensions_train_spectra[1]))\n",
    "print(\"The train_hplc table has {} rows and {} columns.\".format(dimensions_train_hplc[0], dimensions_train_hplc[1]))"
   ]
  },
  {
   "cell_type": "markdown",
   "metadata": {},
   "source": [
    "### Exercise 1.3 Plot the training data"
   ]
  },
  {
   "cell_type": "markdown",
   "metadata": {},
   "source": [
    "Plotting the spectra is a good way to get a first impression of the data. Fill in the code below to show the plots of the ```train_spectra``` using the function ```plot_spectra()```. Here is an example of how to use this function:\n",
    "\n",
    "```plot_spectra(range_cut_spectra, title, x_label, y_label, reference=training_hplc)```"
   ]
  },
  {
   "cell_type": "code",
   "execution_count": null,
   "metadata": {},
   "outputs": [],
   "source": [
    "# Run this cell to visualize train_spectra.\n",
    "# Write your code below:\n",
    "title = \"\"\n",
    "x_label = \"\"\n",
    "y_label = \"\"\n",
    "\n",
    "\n"
   ]
  },
  {
   "cell_type": "markdown",
   "metadata": {},
   "source": [
    "## Step 2. Preprocess the training data"
   ]
  },
  {
   "cell_type": "markdown",
   "metadata": {},
   "source": [
    "Preprocessing is fundamental to remove noise and improve the quality of the data. In this step, we will preprocess the training data to prepare it for the model training."
   ]
  },
  {
   "cell_type": "markdown",
   "metadata": {},
   "source": [
    "### Exercise 2.1. Range Cut"
   ]
  },
  {
   "cell_type": "markdown",
   "metadata": {},
   "source": [
    "Cut the spectra to the range of interest. The range of interest can be whatever you want, but it is recommended to use the range of the spectra between 900 and 1700 cm.\n"
   ]
  },
  {
   "cell_type": "code",
   "execution_count": null,
   "metadata": {},
   "outputs": [],
   "source": [
    "# Write your code below:\n",
    "# Range cut\n",
    "min_wavenumber =\n",
    "max_wavenumber =\n",
    "range_cut = RangeCut(min_wavenumber, max_wavenumber)\n",
    "\n",
    "# Apply the range cut to train_spectra using the .apply_to() method and assign it to the variable range_cut_spectra.\n",
    "range_cut_spectra = range_cut.apply_to(train_spectra)\n",
    "\n",
    "# Use the plot_spectra() function to visualize the range cut.\n",
    "title = \"\"\n",
    "x_label = \"\"\n",
    "y_label = \"\"\n"
   ]
  },
  {
   "cell_type": "markdown",
   "metadata": {},
   "source": [
    "### Exercise 2.2. Drift Correction\n"
   ]
  },
  {
   "cell_type": "markdown",
   "metadata": {},
   "source": [
    "Drift correction is a simple way to remove scatter from the spectra. Below, drift correct the ```range_cut_spectra``` and assign it to the variable ```drift_corrected_spectra```."
   ]
  },
  {
   "cell_type": "code",
   "execution_count": null,
   "metadata": {},
   "outputs": [],
   "source": [
    "# Write your code below:\n",
    "# Drift correction\n",
    "drift_correction = \n",
    "\n",
    "# Apply the drift correction to range_cut_spectra using the .apply_to() method and assign it to the variable drift_correct_spectra.\n",
    "drift_corrected_spectra = \n",
    "\n",
    "# Use the plot_spectra() function to visualize the drift corrected spectra.\n",
    "title = \"\"\n",
    "x_label = \"\"\n",
    "y_label = \"\"\n"
   ]
  },
  {
   "cell_type": "markdown",
   "metadata": {},
   "source": [
    "### Exercise 2.3. Derivative"
   ]
  },
  {
   "cell_type": "markdown",
   "metadata": {},
   "source": [
    "Derivating a spectra is a very common way to remove additive and multiplicative scatter from the spectra. Below, derivate the ```drift_corrected_spectra``` and assign it to the variable ```derivative_spectra```. Please, calculate the second derivate of the spectra."
   ]
  },
  {
   "cell_type": "code",
   "execution_count": null,
   "metadata": {},
   "outputs": [],
   "source": [
    "# Write your code below:\n",
    "# Derivative\n",
    "derivative_order =\n",
    "derivative = \n",
    "\n",
    "# Apply the derivative to drift_corrected_spectra using the .apply_to() method and assign it to the variable derivative_spectra.\n",
    "derivative_spectra =\n",
    "\n",
    "# Use the plot_spectra() function to visualize the derivative spectra.\n",
    "title = \"\"\n",
    "x_label = \"\"\n",
    "y_label = \"\"\n"
   ]
  },
  {
   "cell_type": "code",
   "execution_count": null,
   "metadata": {},
   "outputs": [],
   "source": [
    "# In this cell, we will define the variable preprocessed_spectra, as the output of the final preprocessing step.\n",
    "preprocessed_spectra = derivative_spectra"
   ]
  },
  {
   "cell_type": "markdown",
   "metadata": {},
   "source": [
    "## Step 3. Train the model"
   ]
  },
  {
   "cell_type": "markdown",
   "metadata": {},
   "source": [
    "### Exercise 3.1. Cross-validation"
   ]
  },
  {
   "cell_type": "markdown",
   "metadata": {},
   "source": [
    "The next step is training the PLS model. To do so, we first need to specify the number of components to use in the PLS model. This can be achieved using a corss-validation procedure. This is done using the function ```cross_validation()```. This function will output a plot showing the RMSE and RMSECV (Root Mean Squared Error and Root Mean Squared Error of the Cross Validation) for the different number of components.\n",
    "\n",
    "Use the cross validation function to find the optimal number of components. You can run a cross validation using the following code:\n",
    "\n",
    "\n",
    "```cross_validation(derivate_spectra, train_hplc.glucose)```\n"
   ]
  },
  {
   "cell_type": "code",
   "execution_count": null,
   "metadata": {},
   "outputs": [],
   "source": [
    "# Cross validation\n",
    "# Write your code below:\n"
   ]
  },
  {
   "cell_type": "markdown",
   "metadata": {},
   "source": [
    "What is the number of latent variables that you would select for this model? Assign the number to the variable ```nr_latent_variables```."
   ]
  },
  {
   "cell_type": "code",
   "execution_count": null,
   "metadata": {},
   "outputs": [],
   "source": [
    "# Writ your code below:\n",
    "nr_latent_variables =\n",
    "\n",
    "# Do not modify the code below!\n",
    "print(\"The number of latent variables is {}.\".format(nr_latent_variables))"
   ]
  },
  {
   "cell_type": "markdown",
   "metadata": {},
   "source": [
    "### Exercise 3.2. Train the PLS model"
   ]
  },
  {
   "cell_type": "markdown",
   "metadata": {},
   "source": [
    "Now we will train and evaluate the PLS model. To do so, we will use the ```MBPLS()``` function. This function will allow us to train the PLS model and to predict the glucose concentration. Then, we will use the ```plot_prediction()``` function to visualize the results."
   ]
  },
  {
   "cell_type": "code",
   "execution_count": null,
   "metadata": {},
   "outputs": [],
   "source": [
    "# We will train a MBPLS model with the number of latent variables you have chosen. Then we will use the fit_predict() method to \n",
    "# - train the model\n",
    "# - predict the glucose concentration from the preprocessed spectra\n",
    "\n",
    "model = MBPLS(n_components=nr_latent_variables, method='NIPALS')\n",
    "prediction = model.fit_predict(preprocessed_spectra, train_hplc)\n",
    "\n",
    "# Then, we will evaluate the performance of the model using the plot_predictions() function.\n",
    "# Write your code below:\n"
   ]
  },
  {
   "cell_type": "markdown",
   "metadata": {},
   "source": [
    "## Step 4. Explore the fermentation data"
   ]
  },
  {
   "cell_type": "markdown",
   "metadata": {},
   "source": [
    "### Exercise 4.1. Load the fermentation data"
   ]
  },
  {
   "cell_type": "markdown",
   "metadata": {},
   "source": [
    "fermentation data is directly loaded using the ```load_fermentation_data()``` function. In the cell below, create two variables ```fermentation_spectra``` and ```fermentation_hplc``` to store the fermentationing data.\n",
    "\n",
    "e.g. ```fermentation_spectra, fermentation_hplc = load_fermentation_data()```"
   ]
  },
  {
   "cell_type": "code",
   "execution_count": null,
   "metadata": {},
   "outputs": [],
   "source": [
    "# Write your code below:"
   ]
  },
  {
   "cell_type": "markdown",
   "metadata": {},
   "source": [
    "Now, lets explore the fermentation data:"
   ]
  },
  {
   "cell_type": "code",
   "execution_count": null,
   "metadata": {},
   "outputs": [],
   "source": [
    "# Run this cell to get the dimensions of the fermentation_spectra table and assign it to the variable fermentation_spectra.\n",
    "dimensions_fermentation_spectra = fermentation_spectra.shape\n",
    "\n",
    "# Find the dimensions of the fermentation_hplc and assign it to the variable dimensions_fermentation_hplc.\n",
    "# Write your code below:\n",
    "dimensions_fermentation_hplc = \n",
    "\n",
    "# Do not modify the code below!\n",
    "print(\"The fermentation_spectra table has {} rows and {} columns.\".format(dimensions_fermentation_spectra[0], dimensions_fermentation_spectra[1]))\n",
    "print(\"The fermentation_hplc table has {} rows and {} columns.\".format(dimensions_fermentation_hplc[0], dimensions_fermentation_hplc[1]))"
   ]
  },
  {
   "cell_type": "markdown",
   "metadata": {},
   "source": [
    "## Step 5. Preprocess the fermentation data"
   ]
  },
  {
   "cell_type": "markdown",
   "metadata": {},
   "source": [
    "### Exercise 5.1. Preprocess the data using the sequence defined in Step 2"
   ]
  },
  {
   "cell_type": "markdown",
   "metadata": {},
   "source": [
    "Remember that the preprocessing steps are stored in the variables:\n",
    "\n",
    "- ```range_cut```\n",
    "- ```drift_correction```\n",
    "- ```derivative```\n",
    "\n",
    "and they can be applyed using the ```.apply_to(spectra)``` method.\n",
    "\n"
   ]
  },
  {
   "cell_type": "code",
   "execution_count": null,
   "metadata": {},
   "outputs": [],
   "source": [
    "# Write your code below:\n",
    "# Range cut\n",
    "fermentation_range_cut = \n",
    "\n",
    "# Drift correction\n",
    "fermentation_drift_corrected =\n",
    "\n",
    "# Derivative\n",
    "fermentation_derivative = \n",
    "\n",
    "# In this cell, we will define the variable preprocessed_fermentation_spectra, as the output of the final preprocessing step\n",
    "preprocessed_fermentation_spectra ="
   ]
  },
  {
   "cell_type": "markdown",
   "metadata": {},
   "source": [
    "## Step 6. Predict the glucose concentration from the fermentation data"
   ]
  },
  {
   "cell_type": "markdown",
   "metadata": {},
   "source": [
    "### Exercise 6.1. Predict the glucose concentration with the PLS model trained in Step 3"
   ]
  },
  {
   "cell_type": "markdown",
   "metadata": {},
   "source": [
    "Use the ```model.predict()``` function to predict the glucose concentration from the fermentation spectra."
   ]
  },
  {
   "cell_type": "code",
   "execution_count": null,
   "metadata": {},
   "outputs": [],
   "source": [
    "# Write your code below:\n",
    "prediction = "
   ]
  },
  {
   "cell_type": "markdown",
   "metadata": {},
   "source": [
    "### Exercise 6.2. Evaluate the predictions using the PLS models"
   ]
  },
  {
   "cell_type": "markdown",
   "metadata": {},
   "source": [
    "Use the ```plot_fermentation()``` function to visualize the results."
   ]
  },
  {
   "cell_type": "code",
   "execution_count": null,
   "metadata": {},
   "outputs": [],
   "source": [
    "# Write your code below:\n"
   ]
  },
  {
   "cell_type": "markdown",
   "metadata": {},
   "source": [
    "### END OF EXERCISE"
   ]
  }
 ],
 "metadata": {
  "kernelspec": {
   "display_name": "Python 3.7.14 ('dtu.prosys-K_ZaLelD')",
   "language": "python",
   "name": "python3"
  },
  "language_info": {
   "codemirror_mode": {
    "name": "ipython",
    "version": 3
   },
   "file_extension": ".py",
   "mimetype": "text/x-python",
   "name": "python",
   "nbconvert_exporter": "python",
   "pygments_lexer": "ipython3",
   "version": "3.7.14"
  },
  "orig_nbformat": 4,
  "vscode": {
   "interpreter": {
    "hash": "569f86755218f1efb950e5f139553c62e91e3414af285275e9c42aec8469122f"
   }
  }
 },
 "nbformat": 4,
 "nbformat_minor": 2
}
